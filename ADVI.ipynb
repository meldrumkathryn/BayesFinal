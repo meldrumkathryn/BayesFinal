{
 "cells": [
  {
   "cell_type": "markdown",
   "id": "8850c3b6",
   "metadata": {},
   "source": [
    "# Bayes Final Project"
   ]
  },
  {
   "cell_type": "code",
   "execution_count": 4,
   "id": "4b288f01",
   "metadata": {},
   "outputs": [
    {
     "ename": "ImportError",
     "evalue": "\n\nIMPORTANT: PLEASE READ THIS FOR ADVICE ON HOW TO SOLVE THIS ISSUE!\n\nImporting the numpy C-extensions failed. This error can happen for\nmany reasons, often due to issues with your setup or how NumPy was\ninstalled.\n\nWe have compiled some common reasons and troubleshooting tips at:\n\n    https://numpy.org/devdocs/user/troubleshooting-importerror.html\n\nPlease note and check the following:\n\n  * The Python version is: Python3.8 from \"/Users/leahhogenmiller/.pyenv/versions/3.8.15/bin/python\"\n  * The NumPy version is: \"1.20.3\"\n\nand make sure that they are the versions you expect.\nPlease carefully study the documentation linked above for further help.\n\nOriginal error was: dlopen(/Users/leahhogenmiller/.pyenv/versions/3.8.15/lib/python3.8/site-packages/numpy/core/_multiarray_umath.cpython-38-darwin.so, 0x0002): tried: '/Users/leahhogenmiller/.pyenv/versions/3.8.15/lib/python3.8/site-packages/numpy/core/_multiarray_umath.cpython-38-darwin.so' (mach-o file, but is an incompatible architecture (have 'x86_64', need 'arm64')), '/System/Volumes/Preboot/Cryptexes/OS/Users/leahhogenmiller/.pyenv/versions/3.8.15/lib/python3.8/site-packages/numpy/core/_multiarray_umath.cpython-38-darwin.so' (no such file), '/Users/leahhogenmiller/.pyenv/versions/3.8.15/lib/python3.8/site-packages/numpy/core/_multiarray_umath.cpython-38-darwin.so' (mach-o file, but is an incompatible architecture (have 'x86_64', need 'arm64'))\n",
     "output_type": "error",
     "traceback": [
      "\u001b[0;31m---------------------------------------------------------------------------\u001b[0m",
      "\u001b[0;31mImportError\u001b[0m                               Traceback (most recent call last)",
      "File \u001b[0;32m~/.pyenv/versions/3.8.15/lib/python3.8/site-packages/numpy/core/__init__.py:22\u001b[0m\n\u001b[1;32m     21\u001b[0m \u001b[39mtry\u001b[39;00m:\n\u001b[0;32m---> 22\u001b[0m     \u001b[39mfrom\u001b[39;00m \u001b[39m.\u001b[39;00m \u001b[39mimport\u001b[39;00m multiarray\n\u001b[1;32m     23\u001b[0m \u001b[39mexcept\u001b[39;00m \u001b[39mImportError\u001b[39;00m \u001b[39mas\u001b[39;00m exc:\n",
      "File \u001b[0;32m~/.pyenv/versions/3.8.15/lib/python3.8/site-packages/numpy/core/multiarray.py:12\u001b[0m\n\u001b[1;32m     10\u001b[0m \u001b[39mimport\u001b[39;00m \u001b[39mwarnings\u001b[39;00m\n\u001b[0;32m---> 12\u001b[0m \u001b[39mfrom\u001b[39;00m \u001b[39m.\u001b[39;00m \u001b[39mimport\u001b[39;00m overrides\n\u001b[1;32m     13\u001b[0m \u001b[39mfrom\u001b[39;00m \u001b[39m.\u001b[39;00m \u001b[39mimport\u001b[39;00m _multiarray_umath\n",
      "File \u001b[0;32m~/.pyenv/versions/3.8.15/lib/python3.8/site-packages/numpy/core/overrides.py:7\u001b[0m\n\u001b[1;32m      5\u001b[0m \u001b[39mimport\u001b[39;00m \u001b[39mtextwrap\u001b[39;00m\n\u001b[0;32m----> 7\u001b[0m \u001b[39mfrom\u001b[39;00m \u001b[39mnumpy\u001b[39;00m\u001b[39m.\u001b[39;00m\u001b[39mcore\u001b[39;00m\u001b[39m.\u001b[39;00m\u001b[39m_multiarray_umath\u001b[39;00m \u001b[39mimport\u001b[39;00m (\n\u001b[1;32m      8\u001b[0m     add_docstring, implement_array_function, _get_implementing_args)\n\u001b[1;32m      9\u001b[0m \u001b[39mfrom\u001b[39;00m \u001b[39mnumpy\u001b[39;00m\u001b[39m.\u001b[39;00m\u001b[39mcompat\u001b[39;00m\u001b[39m.\u001b[39;00m\u001b[39m_inspect\u001b[39;00m \u001b[39mimport\u001b[39;00m getargspec\n",
      "\u001b[0;31mImportError\u001b[0m: dlopen(/Users/leahhogenmiller/.pyenv/versions/3.8.15/lib/python3.8/site-packages/numpy/core/_multiarray_umath.cpython-38-darwin.so, 0x0002): tried: '/Users/leahhogenmiller/.pyenv/versions/3.8.15/lib/python3.8/site-packages/numpy/core/_multiarray_umath.cpython-38-darwin.so' (mach-o file, but is an incompatible architecture (have 'x86_64', need 'arm64')), '/System/Volumes/Preboot/Cryptexes/OS/Users/leahhogenmiller/.pyenv/versions/3.8.15/lib/python3.8/site-packages/numpy/core/_multiarray_umath.cpython-38-darwin.so' (no such file), '/Users/leahhogenmiller/.pyenv/versions/3.8.15/lib/python3.8/site-packages/numpy/core/_multiarray_umath.cpython-38-darwin.so' (mach-o file, but is an incompatible architecture (have 'x86_64', need 'arm64'))",
      "\nDuring handling of the above exception, another exception occurred:\n",
      "\u001b[0;31mImportError\u001b[0m                               Traceback (most recent call last)",
      "Cell \u001b[0;32mIn [4], line 1\u001b[0m\n\u001b[0;32m----> 1\u001b[0m \u001b[39mimport\u001b[39;00m \u001b[39mnumpy\u001b[39;00m \u001b[39mas\u001b[39;00m \u001b[39mnp\u001b[39;00m\n\u001b[1;32m      2\u001b[0m \u001b[39mimport\u001b[39;00m \u001b[39mpandas\u001b[39;00m \u001b[39mas\u001b[39;00m \u001b[39mpd\u001b[39;00m\n\u001b[1;32m      3\u001b[0m \u001b[39mimport\u001b[39;00m \u001b[39mmatplotlib\u001b[39;00m\u001b[39m.\u001b[39;00m\u001b[39mpyplot\u001b[39;00m \u001b[39mas\u001b[39;00m \u001b[39mplt\u001b[39;00m\n",
      "File \u001b[0;32m~/.pyenv/versions/3.8.15/lib/python3.8/site-packages/numpy/__init__.py:145\u001b[0m\n\u001b[1;32m    142\u001b[0m \u001b[39m# Allow distributors to run custom init code\u001b[39;00m\n\u001b[1;32m    143\u001b[0m \u001b[39mfrom\u001b[39;00m \u001b[39m.\u001b[39;00m \u001b[39mimport\u001b[39;00m _distributor_init\n\u001b[0;32m--> 145\u001b[0m \u001b[39mfrom\u001b[39;00m \u001b[39m.\u001b[39;00m \u001b[39mimport\u001b[39;00m core\n\u001b[1;32m    146\u001b[0m \u001b[39mfrom\u001b[39;00m \u001b[39m.\u001b[39;00m\u001b[39mcore\u001b[39;00m \u001b[39mimport\u001b[39;00m \u001b[39m*\u001b[39m\n\u001b[1;32m    147\u001b[0m \u001b[39mfrom\u001b[39;00m \u001b[39m.\u001b[39;00m \u001b[39mimport\u001b[39;00m compat\n",
      "File \u001b[0;32m~/.pyenv/versions/3.8.15/lib/python3.8/site-packages/numpy/core/__init__.py:48\u001b[0m\n\u001b[1;32m     24\u001b[0m     \u001b[39mimport\u001b[39;00m \u001b[39msys\u001b[39;00m\n\u001b[1;32m     25\u001b[0m     msg \u001b[39m=\u001b[39m \u001b[39m\"\"\"\u001b[39m\n\u001b[1;32m     26\u001b[0m \n\u001b[1;32m     27\u001b[0m \u001b[39mIMPORTANT: PLEASE READ THIS FOR ADVICE ON HOW TO SOLVE THIS ISSUE!\u001b[39m\n\u001b[0;32m   (...)\u001b[0m\n\u001b[1;32m     46\u001b[0m \u001b[39m\"\"\"\u001b[39m \u001b[39m%\u001b[39m (sys\u001b[39m.\u001b[39mversion_info[\u001b[39m0\u001b[39m], sys\u001b[39m.\u001b[39mversion_info[\u001b[39m1\u001b[39m], sys\u001b[39m.\u001b[39mexecutable,\n\u001b[1;32m     47\u001b[0m         __version__, exc)\n\u001b[0;32m---> 48\u001b[0m     \u001b[39mraise\u001b[39;00m \u001b[39mImportError\u001b[39;00m(msg)\n\u001b[1;32m     49\u001b[0m \u001b[39mfinally\u001b[39;00m:\n\u001b[1;32m     50\u001b[0m     \u001b[39mfor\u001b[39;00m envkey \u001b[39min\u001b[39;00m env_added:\n",
      "\u001b[0;31mImportError\u001b[0m: \n\nIMPORTANT: PLEASE READ THIS FOR ADVICE ON HOW TO SOLVE THIS ISSUE!\n\nImporting the numpy C-extensions failed. This error can happen for\nmany reasons, often due to issues with your setup or how NumPy was\ninstalled.\n\nWe have compiled some common reasons and troubleshooting tips at:\n\n    https://numpy.org/devdocs/user/troubleshooting-importerror.html\n\nPlease note and check the following:\n\n  * The Python version is: Python3.8 from \"/Users/leahhogenmiller/.pyenv/versions/3.8.15/bin/python\"\n  * The NumPy version is: \"1.20.3\"\n\nand make sure that they are the versions you expect.\nPlease carefully study the documentation linked above for further help.\n\nOriginal error was: dlopen(/Users/leahhogenmiller/.pyenv/versions/3.8.15/lib/python3.8/site-packages/numpy/core/_multiarray_umath.cpython-38-darwin.so, 0x0002): tried: '/Users/leahhogenmiller/.pyenv/versions/3.8.15/lib/python3.8/site-packages/numpy/core/_multiarray_umath.cpython-38-darwin.so' (mach-o file, but is an incompatible architecture (have 'x86_64', need 'arm64')), '/System/Volumes/Preboot/Cryptexes/OS/Users/leahhogenmiller/.pyenv/versions/3.8.15/lib/python3.8/site-packages/numpy/core/_multiarray_umath.cpython-38-darwin.so' (no such file), '/Users/leahhogenmiller/.pyenv/versions/3.8.15/lib/python3.8/site-packages/numpy/core/_multiarray_umath.cpython-38-darwin.so' (mach-o file, but is an incompatible architecture (have 'x86_64', need 'arm64'))\n"
     ]
    }
   ],
   "source": [
    "import numpy as np\n",
    "import pandas as pd\n",
    "import matplotlib.pyplot as plt\n",
    "import pymc3 as pm\n",
    "from pymc3 import HalfCauchy, Model, Normal, sample, MvNormal \n",
    "import xarray as xr\n",
    "import graphviz\n",
    "import scipy\n",
    "import seaborn as sns\n",
    "from scipy import stats\n",
    "from scipy.stats import norm\n",
    "import arviz as az\n",
    "az.style.use('arviz-darkgrid')\n",
    "import theano.tensor as tt\n",
    "import theano"
   ]
  },
  {
   "cell_type": "code",
   "execution_count": 11,
   "id": "f0bfba64",
   "metadata": {},
   "outputs": [],
   "source": [
    "data = pd.read_csv('diabetes')\n",
    "data = data.drop(['Unnamed: 0'], axis=1)\n",
    "data = data.astype(int)"
   ]
  },
  {
   "cell_type": "code",
   "execution_count": 12,
   "id": "f805bd91",
   "metadata": {},
   "outputs": [
    {
     "data": {
      "text/html": [
       "<div>\n",
       "<style scoped>\n",
       "    .dataframe tbody tr th:only-of-type {\n",
       "        vertical-align: middle;\n",
       "    }\n",
       "\n",
       "    .dataframe tbody tr th {\n",
       "        vertical-align: top;\n",
       "    }\n",
       "\n",
       "    .dataframe thead th {\n",
       "        text-align: right;\n",
       "    }\n",
       "</style>\n",
       "<table border=\"1\" class=\"dataframe\">\n",
       "  <thead>\n",
       "    <tr style=\"text-align: right;\">\n",
       "      <th></th>\n",
       "      <th>Diabetes_012</th>\n",
       "      <th>HighBP</th>\n",
       "      <th>HighChol</th>\n",
       "      <th>CholCheck</th>\n",
       "      <th>BMI</th>\n",
       "      <th>Smoker</th>\n",
       "      <th>Stroke</th>\n",
       "      <th>HeartDiseaseorAttack</th>\n",
       "      <th>PhysActivity</th>\n",
       "      <th>Fruits</th>\n",
       "      <th>...</th>\n",
       "      <th>AnyHealthcare</th>\n",
       "      <th>NoDocbcCost</th>\n",
       "      <th>GenHlth</th>\n",
       "      <th>MentHlth</th>\n",
       "      <th>PhysHlth</th>\n",
       "      <th>DiffWalk</th>\n",
       "      <th>Sex</th>\n",
       "      <th>Age</th>\n",
       "      <th>Education</th>\n",
       "      <th>Income</th>\n",
       "    </tr>\n",
       "  </thead>\n",
       "  <tbody>\n",
       "    <tr>\n",
       "      <th>0</th>\n",
       "      <td>0</td>\n",
       "      <td>1</td>\n",
       "      <td>1</td>\n",
       "      <td>1</td>\n",
       "      <td>4</td>\n",
       "      <td>1</td>\n",
       "      <td>0</td>\n",
       "      <td>0</td>\n",
       "      <td>0</td>\n",
       "      <td>0</td>\n",
       "      <td>...</td>\n",
       "      <td>1</td>\n",
       "      <td>0</td>\n",
       "      <td>5</td>\n",
       "      <td>1</td>\n",
       "      <td>1</td>\n",
       "      <td>1</td>\n",
       "      <td>0</td>\n",
       "      <td>9</td>\n",
       "      <td>4</td>\n",
       "      <td>3</td>\n",
       "    </tr>\n",
       "    <tr>\n",
       "      <th>1</th>\n",
       "      <td>0</td>\n",
       "      <td>0</td>\n",
       "      <td>0</td>\n",
       "      <td>0</td>\n",
       "      <td>2</td>\n",
       "      <td>1</td>\n",
       "      <td>0</td>\n",
       "      <td>0</td>\n",
       "      <td>1</td>\n",
       "      <td>0</td>\n",
       "      <td>...</td>\n",
       "      <td>0</td>\n",
       "      <td>1</td>\n",
       "      <td>3</td>\n",
       "      <td>0</td>\n",
       "      <td>0</td>\n",
       "      <td>0</td>\n",
       "      <td>0</td>\n",
       "      <td>7</td>\n",
       "      <td>6</td>\n",
       "      <td>1</td>\n",
       "    </tr>\n",
       "    <tr>\n",
       "      <th>2</th>\n",
       "      <td>0</td>\n",
       "      <td>1</td>\n",
       "      <td>1</td>\n",
       "      <td>1</td>\n",
       "      <td>2</td>\n",
       "      <td>0</td>\n",
       "      <td>0</td>\n",
       "      <td>0</td>\n",
       "      <td>0</td>\n",
       "      <td>1</td>\n",
       "      <td>...</td>\n",
       "      <td>1</td>\n",
       "      <td>1</td>\n",
       "      <td>5</td>\n",
       "      <td>1</td>\n",
       "      <td>1</td>\n",
       "      <td>1</td>\n",
       "      <td>0</td>\n",
       "      <td>9</td>\n",
       "      <td>4</td>\n",
       "      <td>8</td>\n",
       "    </tr>\n",
       "    <tr>\n",
       "      <th>3</th>\n",
       "      <td>0</td>\n",
       "      <td>1</td>\n",
       "      <td>0</td>\n",
       "      <td>1</td>\n",
       "      <td>2</td>\n",
       "      <td>0</td>\n",
       "      <td>0</td>\n",
       "      <td>0</td>\n",
       "      <td>1</td>\n",
       "      <td>1</td>\n",
       "      <td>...</td>\n",
       "      <td>1</td>\n",
       "      <td>0</td>\n",
       "      <td>2</td>\n",
       "      <td>0</td>\n",
       "      <td>0</td>\n",
       "      <td>0</td>\n",
       "      <td>0</td>\n",
       "      <td>11</td>\n",
       "      <td>3</td>\n",
       "      <td>6</td>\n",
       "    </tr>\n",
       "    <tr>\n",
       "      <th>4</th>\n",
       "      <td>0</td>\n",
       "      <td>1</td>\n",
       "      <td>1</td>\n",
       "      <td>1</td>\n",
       "      <td>1</td>\n",
       "      <td>0</td>\n",
       "      <td>0</td>\n",
       "      <td>0</td>\n",
       "      <td>1</td>\n",
       "      <td>1</td>\n",
       "      <td>...</td>\n",
       "      <td>1</td>\n",
       "      <td>0</td>\n",
       "      <td>2</td>\n",
       "      <td>1</td>\n",
       "      <td>0</td>\n",
       "      <td>0</td>\n",
       "      <td>0</td>\n",
       "      <td>11</td>\n",
       "      <td>5</td>\n",
       "      <td>4</td>\n",
       "    </tr>\n",
       "  </tbody>\n",
       "</table>\n",
       "<p>5 rows × 22 columns</p>\n",
       "</div>"
      ],
      "text/plain": [
       "   Diabetes_012  HighBP  HighChol  CholCheck  BMI  Smoker  Stroke  \\\n",
       "0             0       1         1          1    4       1       0   \n",
       "1             0       0         0          0    2       1       0   \n",
       "2             0       1         1          1    2       0       0   \n",
       "3             0       1         0          1    2       0       0   \n",
       "4             0       1         1          1    1       0       0   \n",
       "\n",
       "   HeartDiseaseorAttack  PhysActivity  Fruits  ...  AnyHealthcare  \\\n",
       "0                     0             0       0  ...              1   \n",
       "1                     0             1       0  ...              0   \n",
       "2                     0             0       1  ...              1   \n",
       "3                     0             1       1  ...              1   \n",
       "4                     0             1       1  ...              1   \n",
       "\n",
       "   NoDocbcCost  GenHlth  MentHlth  PhysHlth  DiffWalk  Sex  Age  Education  \\\n",
       "0            0        5         1         1         1    0    9          4   \n",
       "1            1        3         0         0         0    0    7          6   \n",
       "2            1        5         1         1         1    0    9          4   \n",
       "3            0        2         0         0         0    0   11          3   \n",
       "4            0        2         1         0         0    0   11          5   \n",
       "\n",
       "   Income  \n",
       "0       3  \n",
       "1       1  \n",
       "2       8  \n",
       "3       6  \n",
       "4       4  \n",
       "\n",
       "[5 rows x 22 columns]"
      ]
     },
     "execution_count": 12,
     "metadata": {},
     "output_type": "execute_result"
    }
   ],
   "source": [
    "data.head()"
   ]
  },
  {
   "cell_type": "code",
   "execution_count": 13,
   "id": "0de7b1ce",
   "metadata": {},
   "outputs": [
    {
     "data": {
      "text/plain": [
       "0    213703\n",
       "2     35346\n",
       "1      4631\n",
       "Name: Diabetes_012, dtype: int64"
      ]
     },
     "execution_count": 13,
     "metadata": {},
     "output_type": "execute_result"
    }
   ],
   "source": [
    "data['Diabetes_012'].value_counts()"
   ]
  },
  {
   "cell_type": "code",
   "execution_count": 14,
   "id": "516c4fea",
   "metadata": {},
   "outputs": [],
   "source": [
    "data_test = data.iloc[range(1000),:]"
   ]
  },
  {
   "cell_type": "code",
   "execution_count": 20,
   "id": "66375a48",
   "metadata": {
    "scrolled": true
   },
   "outputs": [
    {
     "ename": "ImportError",
     "evalue": "dlopen(/Users/leahhogenmiller/.theano/compiledir_macOS-13.0.1-arm64-i386-64bit-i386-3.8.15-64/tmpbjfkgqpr/m31975b6dadb59d49af3f2b36405378825884299512ee0ed9081be33fa591d30d.so, 0x0002): tried: '/Users/leahhogenmiller/.theano/compiledir_macOS-13.0.1-arm64-i386-64bit-i386-3.8.15-64/tmpbjfkgqpr/m31975b6dadb59d49af3f2b36405378825884299512ee0ed9081be33fa591d30d.so' (mach-o file, but is an incompatible architecture (have 'x86_64', need 'arm64')), '/System/Volumes/Preboot/Cryptexes/OS/Users/leahhogenmiller/.theano/compiledir_macOS-13.0.1-arm64-i386-64bit-i386-3.8.15-64/tmpbjfkgqpr/m31975b6dadb59d49af3f2b36405378825884299512ee0ed9081be33fa591d30d.so' (no such file), '/Users/leahhogenmiller/.theano/compiledir_macOS-13.0.1-arm64-i386-64bit-i386-3.8.15-64/tmpbjfkgqpr/m31975b6dadb59d49af3f2b36405378825884299512ee0ed9081be33fa591d30d.so' (mach-o file, but is an incompatible architecture (have 'x86_64', need 'arm64'))",
     "output_type": "error",
     "traceback": [
      "\u001b[0;31m---------------------------------------------------------------------------\u001b[0m",
      "\u001b[0;31mImportError\u001b[0m                               Traceback (most recent call last)",
      "Cell \u001b[0;32mIn [20], line 8\u001b[0m\n\u001b[1;32m      5\u001b[0m X \u001b[39m=\u001b[39m data_test\u001b[39m.\u001b[39miloc[:,\u001b[39mrange\u001b[39m(\u001b[39m1\u001b[39m,\u001b[39m22\u001b[39m)]\n\u001b[1;32m      7\u001b[0m \u001b[39m#X_data = pm.Data('X_data', X)\u001b[39;00m\n\u001b[0;32m----> 8\u001b[0m alpha \u001b[39m=\u001b[39m pm\u001b[39m.\u001b[39;49mNormal(\u001b[39m'\u001b[39;49m\u001b[39malpha\u001b[39;49m\u001b[39m'\u001b[39;49m, mu\u001b[39m=\u001b[39;49m\u001b[39m0\u001b[39;49m, sigma\u001b[39m=\u001b[39;49m\u001b[39m10\u001b[39;49m, shape\u001b[39m=\u001b[39;49m(\u001b[39m3\u001b[39;49m,))\n\u001b[1;32m      9\u001b[0m beta \u001b[39m=\u001b[39m pm\u001b[39m.\u001b[39mNormal(\u001b[39m'\u001b[39m\u001b[39mbeta\u001b[39m\u001b[39m'\u001b[39m, mu\u001b[39m=\u001b[39m\u001b[39m0\u001b[39m, sigma\u001b[39m=\u001b[39m\u001b[39m10\u001b[39m, shape\u001b[39m=\u001b[39m(\u001b[39m21\u001b[39m,\u001b[39m3\u001b[39m))\n\u001b[1;32m     10\u001b[0m mu \u001b[39m=\u001b[39m alpha \u001b[39m+\u001b[39m pm\u001b[39m.\u001b[39mmath\u001b[39m.\u001b[39mdot(X, beta)\n",
      "File \u001b[0;32m~/.pyenv/versions/3.8.15/lib/python3.8/site-packages/pymc3/distributions/distribution.py:122\u001b[0m, in \u001b[0;36mDistribution.__new__\u001b[0;34m(cls, name, *args, **kwargs)\u001b[0m\n\u001b[1;32m    120\u001b[0m \u001b[39m# Some distributions do not accept shape=None\u001b[39;00m\n\u001b[1;32m    121\u001b[0m \u001b[39mif\u001b[39;00m has_shape \u001b[39mor\u001b[39;00m shape \u001b[39mis\u001b[39;00m \u001b[39mnot\u001b[39;00m \u001b[39mNone\u001b[39;00m:\n\u001b[0;32m--> 122\u001b[0m     dist \u001b[39m=\u001b[39m \u001b[39mcls\u001b[39;49m\u001b[39m.\u001b[39;49mdist(\u001b[39m*\u001b[39;49margs, \u001b[39m*\u001b[39;49m\u001b[39m*\u001b[39;49mkwargs, shape\u001b[39m=\u001b[39;49mshape)\n\u001b[1;32m    123\u001b[0m \u001b[39melse\u001b[39;00m:\n\u001b[1;32m    124\u001b[0m     dist \u001b[39m=\u001b[39m \u001b[39mcls\u001b[39m\u001b[39m.\u001b[39mdist(\u001b[39m*\u001b[39margs, \u001b[39m*\u001b[39m\u001b[39m*\u001b[39mkwargs)\n",
      "File \u001b[0;32m~/.pyenv/versions/3.8.15/lib/python3.8/site-packages/pymc3/distributions/distribution.py:133\u001b[0m, in \u001b[0;36mDistribution.dist\u001b[0;34m(cls, *args, **kwargs)\u001b[0m\n\u001b[1;32m    130\u001b[0m \u001b[39m@classmethod\u001b[39m\n\u001b[1;32m    131\u001b[0m \u001b[39mdef\u001b[39;00m \u001b[39mdist\u001b[39m(\u001b[39mcls\u001b[39m, \u001b[39m*\u001b[39margs, \u001b[39m*\u001b[39m\u001b[39m*\u001b[39mkwargs):\n\u001b[1;32m    132\u001b[0m     dist \u001b[39m=\u001b[39m \u001b[39mobject\u001b[39m\u001b[39m.\u001b[39m\u001b[39m__new__\u001b[39m(\u001b[39mcls\u001b[39m)\n\u001b[0;32m--> 133\u001b[0m     dist\u001b[39m.\u001b[39;49m\u001b[39m__init__\u001b[39;49m(\u001b[39m*\u001b[39;49margs, \u001b[39m*\u001b[39;49m\u001b[39m*\u001b[39;49mkwargs)\n\u001b[1;32m    134\u001b[0m     \u001b[39mreturn\u001b[39;00m dist\n",
      "File \u001b[0;32m~/.pyenv/versions/3.8.15/lib/python3.8/site-packages/pymc3/distributions/continuous.py:488\u001b[0m, in \u001b[0;36mNormal.__init__\u001b[0;34m(self, mu, sigma, tau, sd, **kwargs)\u001b[0m\n\u001b[1;32m    485\u001b[0m \u001b[39mself\u001b[39m\u001b[39m.\u001b[39mtau \u001b[39m=\u001b[39m tt\u001b[39m.\u001b[39mas_tensor_variable(tau)\n\u001b[1;32m    487\u001b[0m \u001b[39mself\u001b[39m\u001b[39m.\u001b[39mmean \u001b[39m=\u001b[39m \u001b[39mself\u001b[39m\u001b[39m.\u001b[39mmedian \u001b[39m=\u001b[39m \u001b[39mself\u001b[39m\u001b[39m.\u001b[39mmode \u001b[39m=\u001b[39m \u001b[39mself\u001b[39m\u001b[39m.\u001b[39mmu \u001b[39m=\u001b[39m mu \u001b[39m=\u001b[39m tt\u001b[39m.\u001b[39mas_tensor_variable(floatX(mu))\n\u001b[0;32m--> 488\u001b[0m \u001b[39mself\u001b[39m\u001b[39m.\u001b[39mvariance \u001b[39m=\u001b[39m \u001b[39m1.0\u001b[39;49m \u001b[39m/\u001b[39;49m \u001b[39mself\u001b[39;49m\u001b[39m.\u001b[39;49mtau\n\u001b[1;32m    490\u001b[0m assert_negative_support(sigma, \u001b[39m\"\u001b[39m\u001b[39msigma\u001b[39m\u001b[39m\"\u001b[39m, \u001b[39m\"\u001b[39m\u001b[39mNormal\u001b[39m\u001b[39m\"\u001b[39m)\n\u001b[1;32m    491\u001b[0m assert_negative_support(tau, \u001b[39m\"\u001b[39m\u001b[39mtau\u001b[39m\u001b[39m\"\u001b[39m, \u001b[39m\"\u001b[39m\u001b[39mNormal\u001b[39m\u001b[39m\"\u001b[39m)\n",
      "File \u001b[0;32m~/.pyenv/versions/3.8.15/lib/python3.8/site-packages/theano/tensor/var.py:176\u001b[0m, in \u001b[0;36m__rtruediv__\u001b[0;34m(self, other)\u001b[0m\n\u001b[1;32m    173\u001b[0m \u001b[39mdef\u001b[39;00m \u001b[39m__pow__\u001b[39m(\u001b[39mself\u001b[39m, other):\n\u001b[1;32m    174\u001b[0m     \u001b[39m# See explanation in __add__ for the error catched\u001b[39;00m\n\u001b[1;32m    175\u001b[0m     \u001b[39m# adn the return value in that case\u001b[39;00m\n\u001b[0;32m--> 176\u001b[0m     \u001b[39mtry\u001b[39;00m:\n\u001b[1;32m    177\u001b[0m         \u001b[39mreturn\u001b[39;00m theano\u001b[39m.\u001b[39mtensor\u001b[39m.\u001b[39mbasic\u001b[39m.\u001b[39mpow(\u001b[39mself\u001b[39m, other)\n\u001b[1;32m    178\u001b[0m     \u001b[39mexcept\u001b[39;00m (\u001b[39mNotImplementedError\u001b[39;00m, AsTensorError):\n",
      "File \u001b[0;32m~/.pyenv/versions/3.8.15/lib/python3.8/site-packages/theano/graph/op.py:253\u001b[0m, in \u001b[0;36mOp.__call__\u001b[0;34m(self, *inputs, **kwargs)\u001b[0m\n\u001b[1;32m    250\u001b[0m node \u001b[39m=\u001b[39m \u001b[39mself\u001b[39m\u001b[39m.\u001b[39mmake_node(\u001b[39m*\u001b[39minputs, \u001b[39m*\u001b[39m\u001b[39m*\u001b[39mkwargs)\n\u001b[1;32m    252\u001b[0m \u001b[39mif\u001b[39;00m config\u001b[39m.\u001b[39mcompute_test_value \u001b[39m!=\u001b[39m \u001b[39m\"\u001b[39m\u001b[39moff\u001b[39m\u001b[39m\"\u001b[39m:\n\u001b[0;32m--> 253\u001b[0m     compute_test_value(node)\n\u001b[1;32m    255\u001b[0m \u001b[39mif\u001b[39;00m \u001b[39mself\u001b[39m\u001b[39m.\u001b[39mdefault_output \u001b[39mis\u001b[39;00m \u001b[39mnot\u001b[39;00m \u001b[39mNone\u001b[39;00m:\n\u001b[1;32m    256\u001b[0m     rval \u001b[39m=\u001b[39m node\u001b[39m.\u001b[39moutputs[\u001b[39mself\u001b[39m\u001b[39m.\u001b[39mdefault_output]\n",
      "File \u001b[0;32m~/.pyenv/versions/3.8.15/lib/python3.8/site-packages/theano/graph/op.py:126\u001b[0m, in \u001b[0;36mcompute_test_value\u001b[0;34m(node)\u001b[0m\n\u001b[1;32m    123\u001b[0m     compute_map[o] \u001b[39m=\u001b[39m [\u001b[39mFalse\u001b[39;00m]\n\u001b[1;32m    125\u001b[0m \u001b[39m# Create a thunk that performs the computation\u001b[39;00m\n\u001b[0;32m--> 126\u001b[0m thunk \u001b[39m=\u001b[39m node\u001b[39m.\u001b[39;49mop\u001b[39m.\u001b[39;49mmake_thunk(node, storage_map, compute_map, no_recycling\u001b[39m=\u001b[39;49m[])\n\u001b[1;32m    127\u001b[0m thunk\u001b[39m.\u001b[39minputs \u001b[39m=\u001b[39m [storage_map[v] \u001b[39mfor\u001b[39;00m v \u001b[39min\u001b[39;00m node\u001b[39m.\u001b[39minputs]\n\u001b[1;32m    128\u001b[0m thunk\u001b[39m.\u001b[39moutputs \u001b[39m=\u001b[39m [storage_map[v] \u001b[39mfor\u001b[39;00m v \u001b[39min\u001b[39;00m node\u001b[39m.\u001b[39moutputs]\n",
      "File \u001b[0;32m~/.pyenv/versions/3.8.15/lib/python3.8/site-packages/theano/graph/op.py:634\u001b[0m, in \u001b[0;36mCOp.make_thunk\u001b[0;34m(self, node, storage_map, compute_map, no_recycling, impl)\u001b[0m\n\u001b[1;32m    630\u001b[0m \u001b[39mself\u001b[39m\u001b[39m.\u001b[39mprepare_node(\n\u001b[1;32m    631\u001b[0m     node, storage_map\u001b[39m=\u001b[39mstorage_map, compute_map\u001b[39m=\u001b[39mcompute_map, impl\u001b[39m=\u001b[39m\u001b[39m\"\u001b[39m\u001b[39mc\u001b[39m\u001b[39m\"\u001b[39m\n\u001b[1;32m    632\u001b[0m )\n\u001b[1;32m    633\u001b[0m \u001b[39mtry\u001b[39;00m:\n\u001b[0;32m--> 634\u001b[0m     \u001b[39mreturn\u001b[39;00m \u001b[39mself\u001b[39;49m\u001b[39m.\u001b[39;49mmake_c_thunk(node, storage_map, compute_map, no_recycling)\n\u001b[1;32m    635\u001b[0m \u001b[39mexcept\u001b[39;00m (\u001b[39mNotImplementedError\u001b[39;00m, MethodNotDefined):\n\u001b[1;32m    636\u001b[0m     \u001b[39m# We requested the c code, so don't catch the error.\u001b[39;00m\n\u001b[1;32m    637\u001b[0m     \u001b[39mif\u001b[39;00m impl \u001b[39m==\u001b[39m \u001b[39m\"\u001b[39m\u001b[39mc\u001b[39m\u001b[39m\"\u001b[39m:\n",
      "File \u001b[0;32m~/.pyenv/versions/3.8.15/lib/python3.8/site-packages/theano/graph/op.py:600\u001b[0m, in \u001b[0;36mCOp.make_c_thunk\u001b[0;34m(self, node, storage_map, compute_map, no_recycling)\u001b[0m\n\u001b[1;32m    598\u001b[0m         \u001b[39mprint\u001b[39m(\u001b[39mf\u001b[39m\u001b[39m\"\u001b[39m\u001b[39mDisabling C code for \u001b[39m\u001b[39m{\u001b[39;00m\u001b[39mself\u001b[39m\u001b[39m}\u001b[39;00m\u001b[39m due to unsupported float16\u001b[39m\u001b[39m\"\u001b[39m)\n\u001b[1;32m    599\u001b[0m         \u001b[39mraise\u001b[39;00m \u001b[39mNotImplementedError\u001b[39;00m(\u001b[39m\"\u001b[39m\u001b[39mfloat16\u001b[39m\u001b[39m\"\u001b[39m)\n\u001b[0;32m--> 600\u001b[0m outputs \u001b[39m=\u001b[39m cl\u001b[39m.\u001b[39;49mmake_thunk(\n\u001b[1;32m    601\u001b[0m     input_storage\u001b[39m=\u001b[39;49mnode_input_storage, output_storage\u001b[39m=\u001b[39;49mnode_output_storage\n\u001b[1;32m    602\u001b[0m )\n\u001b[1;32m    603\u001b[0m thunk, node_input_filters, node_output_filters \u001b[39m=\u001b[39m outputs\n\u001b[1;32m    605\u001b[0m \u001b[39mdef\u001b[39;00m \u001b[39mrval\u001b[39m():\n",
      "File \u001b[0;32m~/.pyenv/versions/3.8.15/lib/python3.8/site-packages/theano/link/c/basic.py:1203\u001b[0m, in \u001b[0;36mCLinker.make_thunk\u001b[0;34m(self, input_storage, output_storage, storage_map)\u001b[0m\n\u001b[1;32m   1175\u001b[0m \u001b[39m\"\"\"\u001b[39;00m\n\u001b[1;32m   1176\u001b[0m \u001b[39mCompiles this linker's fgraph and returns a function to perform the\u001b[39;00m\n\u001b[1;32m   1177\u001b[0m \u001b[39mcomputations, as well as lists of storage cells for both the inputs\u001b[39;00m\n\u001b[0;32m   (...)\u001b[0m\n\u001b[1;32m   1200\u001b[0m \u001b[39m  first_output = ostor[0].data\u001b[39;00m\n\u001b[1;32m   1201\u001b[0m \u001b[39m\"\"\"\u001b[39;00m\n\u001b[1;32m   1202\u001b[0m init_tasks, tasks \u001b[39m=\u001b[39m \u001b[39mself\u001b[39m\u001b[39m.\u001b[39mget_init_tasks()\n\u001b[0;32m-> 1203\u001b[0m cthunk, module, in_storage, out_storage, error_storage \u001b[39m=\u001b[39m \u001b[39mself\u001b[39;49m\u001b[39m.\u001b[39;49m__compile__(\n\u001b[1;32m   1204\u001b[0m     input_storage, output_storage, storage_map\n\u001b[1;32m   1205\u001b[0m )\n\u001b[1;32m   1207\u001b[0m res \u001b[39m=\u001b[39m _CThunk(cthunk, init_tasks, tasks, error_storage, module)\n\u001b[1;32m   1208\u001b[0m res\u001b[39m.\u001b[39mnodes \u001b[39m=\u001b[39m \u001b[39mself\u001b[39m\u001b[39m.\u001b[39mnode_order\n",
      "File \u001b[0;32m~/.pyenv/versions/3.8.15/lib/python3.8/site-packages/theano/link/c/basic.py:1138\u001b[0m, in \u001b[0;36mCLinker.__compile__\u001b[0;34m(self, input_storage, output_storage, storage_map)\u001b[0m\n\u001b[1;32m   1136\u001b[0m input_storage \u001b[39m=\u001b[39m \u001b[39mtuple\u001b[39m(input_storage)\n\u001b[1;32m   1137\u001b[0m output_storage \u001b[39m=\u001b[39m \u001b[39mtuple\u001b[39m(output_storage)\n\u001b[0;32m-> 1138\u001b[0m thunk, module \u001b[39m=\u001b[39m \u001b[39mself\u001b[39;49m\u001b[39m.\u001b[39;49mcthunk_factory(\n\u001b[1;32m   1139\u001b[0m     error_storage,\n\u001b[1;32m   1140\u001b[0m     input_storage,\n\u001b[1;32m   1141\u001b[0m     output_storage,\n\u001b[1;32m   1142\u001b[0m     storage_map,\n\u001b[1;32m   1143\u001b[0m )\n\u001b[1;32m   1144\u001b[0m \u001b[39mreturn\u001b[39;00m (\n\u001b[1;32m   1145\u001b[0m     thunk,\n\u001b[1;32m   1146\u001b[0m     module,\n\u001b[0;32m   (...)\u001b[0m\n\u001b[1;32m   1155\u001b[0m     error_storage,\n\u001b[1;32m   1156\u001b[0m )\n",
      "File \u001b[0;32m~/.pyenv/versions/3.8.15/lib/python3.8/site-packages/theano/link/c/basic.py:1634\u001b[0m, in \u001b[0;36mCLinker.cthunk_factory\u001b[0;34m(self, error_storage, in_storage, out_storage, storage_map)\u001b[0m\n\u001b[1;32m   1632\u001b[0m     \u001b[39mfor\u001b[39;00m node \u001b[39min\u001b[39;00m \u001b[39mself\u001b[39m\u001b[39m.\u001b[39mnode_order:\n\u001b[1;32m   1633\u001b[0m         node\u001b[39m.\u001b[39mop\u001b[39m.\u001b[39mprepare_node(node, storage_map, \u001b[39mNone\u001b[39;00m, \u001b[39m\"\u001b[39m\u001b[39mc\u001b[39m\u001b[39m\"\u001b[39m)\n\u001b[0;32m-> 1634\u001b[0m     module \u001b[39m=\u001b[39m get_module_cache()\u001b[39m.\u001b[39;49mmodule_from_key(key\u001b[39m=\u001b[39;49mkey, lnk\u001b[39m=\u001b[39;49m\u001b[39mself\u001b[39;49m)\n\u001b[1;32m   1636\u001b[0m \u001b[39mvars\u001b[39m \u001b[39m=\u001b[39m \u001b[39mself\u001b[39m\u001b[39m.\u001b[39minputs \u001b[39m+\u001b[39m \u001b[39mself\u001b[39m\u001b[39m.\u001b[39moutputs \u001b[39m+\u001b[39m \u001b[39mself\u001b[39m\u001b[39m.\u001b[39morphans\n\u001b[1;32m   1637\u001b[0m \u001b[39m# List of indices that should be ignored when passing the arguments\u001b[39;00m\n\u001b[1;32m   1638\u001b[0m \u001b[39m# (basically, everything that the previous call to uniq eliminated)\u001b[39;00m\n",
      "File \u001b[0;32m~/.pyenv/versions/3.8.15/lib/python3.8/site-packages/theano/link/c/cmodule.py:1191\u001b[0m, in \u001b[0;36mModuleCache.module_from_key\u001b[0;34m(self, key, lnk)\u001b[0m\n\u001b[1;32m   1189\u001b[0m \u001b[39mtry\u001b[39;00m:\n\u001b[1;32m   1190\u001b[0m     location \u001b[39m=\u001b[39m dlimport_workdir(\u001b[39mself\u001b[39m\u001b[39m.\u001b[39mdirname)\n\u001b[0;32m-> 1191\u001b[0m     module \u001b[39m=\u001b[39m lnk\u001b[39m.\u001b[39;49mcompile_cmodule(location)\n\u001b[1;32m   1192\u001b[0m     name \u001b[39m=\u001b[39m module\u001b[39m.\u001b[39m\u001b[39m__file__\u001b[39m\n\u001b[1;32m   1193\u001b[0m     \u001b[39massert\u001b[39;00m name\u001b[39m.\u001b[39mstartswith(location)\n",
      "File \u001b[0;32m~/.pyenv/versions/3.8.15/lib/python3.8/site-packages/theano/link/c/basic.py:1543\u001b[0m, in \u001b[0;36mCLinker.compile_cmodule\u001b[0;34m(self, location)\u001b[0m\n\u001b[1;32m   1541\u001b[0m \u001b[39mtry\u001b[39;00m:\n\u001b[1;32m   1542\u001b[0m     _logger\u001b[39m.\u001b[39mdebug(\u001b[39mf\u001b[39m\u001b[39m\"\u001b[39m\u001b[39mLOCATION \u001b[39m\u001b[39m{\u001b[39;00mlocation\u001b[39m}\u001b[39;00m\u001b[39m\"\u001b[39m)\n\u001b[0;32m-> 1543\u001b[0m     module \u001b[39m=\u001b[39m c_compiler\u001b[39m.\u001b[39;49mcompile_str(\n\u001b[1;32m   1544\u001b[0m         module_name\u001b[39m=\u001b[39;49mmod\u001b[39m.\u001b[39;49mcode_hash,\n\u001b[1;32m   1545\u001b[0m         src_code\u001b[39m=\u001b[39;49msrc_code,\n\u001b[1;32m   1546\u001b[0m         location\u001b[39m=\u001b[39;49mlocation,\n\u001b[1;32m   1547\u001b[0m         include_dirs\u001b[39m=\u001b[39;49m\u001b[39mself\u001b[39;49m\u001b[39m.\u001b[39;49mheader_dirs(),\n\u001b[1;32m   1548\u001b[0m         lib_dirs\u001b[39m=\u001b[39;49m\u001b[39mself\u001b[39;49m\u001b[39m.\u001b[39;49mlib_dirs(),\n\u001b[1;32m   1549\u001b[0m         libs\u001b[39m=\u001b[39;49mlibs,\n\u001b[1;32m   1550\u001b[0m         preargs\u001b[39m=\u001b[39;49mpreargs,\n\u001b[1;32m   1551\u001b[0m     )\n\u001b[1;32m   1552\u001b[0m \u001b[39mexcept\u001b[39;00m \u001b[39mException\u001b[39;00m \u001b[39mas\u001b[39;00m e:\n\u001b[1;32m   1553\u001b[0m     e\u001b[39m.\u001b[39margs \u001b[39m+\u001b[39m\u001b[39m=\u001b[39m (\u001b[39mstr\u001b[39m(\u001b[39mself\u001b[39m\u001b[39m.\u001b[39mfgraph),)\n",
      "File \u001b[0;32m~/.pyenv/versions/3.8.15/lib/python3.8/site-packages/theano/link/c/cmodule.py:2557\u001b[0m, in \u001b[0;36mGCC_compiler.compile_str\u001b[0;34m(module_name, src_code, location, include_dirs, lib_dirs, libs, preargs, py_module, hide_symbols)\u001b[0m\n\u001b[1;32m   2555\u001b[0m \u001b[39mopen\u001b[39m(os\u001b[39m.\u001b[39mpath\u001b[39m.\u001b[39mjoin(location, \u001b[39m\"\u001b[39m\u001b[39m__init__.py\u001b[39m\u001b[39m\"\u001b[39m), \u001b[39m\"\u001b[39m\u001b[39mw\u001b[39m\u001b[39m\"\u001b[39m)\u001b[39m.\u001b[39mclose()\n\u001b[1;32m   2556\u001b[0m \u001b[39massert\u001b[39;00m os\u001b[39m.\u001b[39mpath\u001b[39m.\u001b[39misfile(lib_filename)\n\u001b[0;32m-> 2557\u001b[0m \u001b[39mreturn\u001b[39;00m dlimport(lib_filename)\n",
      "File \u001b[0;32m~/.pyenv/versions/3.8.15/lib/python3.8/site-packages/theano/link/c/cmodule.py:294\u001b[0m, in \u001b[0;36mdlimport\u001b[0;34m(fullpath, suffix)\u001b[0m\n\u001b[1;32m    292\u001b[0m \u001b[39mwith\u001b[39;00m warnings\u001b[39m.\u001b[39mcatch_warnings():\n\u001b[1;32m    293\u001b[0m     warnings\u001b[39m.\u001b[39mfilterwarnings(\u001b[39m\"\u001b[39m\u001b[39mignore\u001b[39m\u001b[39m\"\u001b[39m, message\u001b[39m=\u001b[39m\u001b[39m\"\u001b[39m\u001b[39mnumpy.ndarray size changed\u001b[39m\u001b[39m\"\u001b[39m)\n\u001b[0;32m--> 294\u001b[0m     rval \u001b[39m=\u001b[39m \u001b[39m__import__\u001b[39;49m(module_name, {}, {}, [module_name])\n\u001b[1;32m    295\u001b[0m t1 \u001b[39m=\u001b[39m time\u001b[39m.\u001b[39mtime()\n\u001b[1;32m    296\u001b[0m import_time \u001b[39m+\u001b[39m\u001b[39m=\u001b[39m t1 \u001b[39m-\u001b[39m t0\n",
      "\u001b[0;31mImportError\u001b[0m: dlopen(/Users/leahhogenmiller/.theano/compiledir_macOS-13.0.1-arm64-i386-64bit-i386-3.8.15-64/tmpbjfkgqpr/m31975b6dadb59d49af3f2b36405378825884299512ee0ed9081be33fa591d30d.so, 0x0002): tried: '/Users/leahhogenmiller/.theano/compiledir_macOS-13.0.1-arm64-i386-64bit-i386-3.8.15-64/tmpbjfkgqpr/m31975b6dadb59d49af3f2b36405378825884299512ee0ed9081be33fa591d30d.so' (mach-o file, but is an incompatible architecture (have 'x86_64', need 'arm64')), '/System/Volumes/Preboot/Cryptexes/OS/Users/leahhogenmiller/.theano/compiledir_macOS-13.0.1-arm64-i386-64bit-i386-3.8.15-64/tmpbjfkgqpr/m31975b6dadb59d49af3f2b36405378825884299512ee0ed9081be33fa591d30d.so' (no such file), '/Users/leahhogenmiller/.theano/compiledir_macOS-13.0.1-arm64-i386-64bit-i386-3.8.15-64/tmpbjfkgqpr/m31975b6dadb59d49af3f2b36405378825884299512ee0ed9081be33fa591d30d.so' (mach-o file, but is an incompatible architecture (have 'x86_64', need 'arm64'))"
     ]
    }
   ],
   "source": [
    "with pm.Model() as model:\n",
    "#     X = theano.shared(data_test['Diabetes_012'].to_numpy())\n",
    "#     Y = theano.shared(data_test.iloc[:,range(1,22)].to_numpy())\n",
    "    alpha = pm.Normal('alpha', mu=0, sigma=10, shape=(3,))\n",
    "    beta = pm.Normal('beta', mu=0, sigma=10, shape=(21,3))\n",
    "    mu = alpha + pm.math.dot(X, beta)\n",
    "    p = pm.Deterministic('p', tt.nnet.softmax(mu, -1))\n",
    "    Y1 = pm.Categorical('obs', p=p, observed=Y)"
   ]
  },
  {
   "cell_type": "code",
   "execution_count": null,
   "id": "c0710622",
   "metadata": {},
   "outputs": [],
   "source": [
    "Xt = shared(data_test['Diabetes_012'].to_numpy())\n",
    "yt = shared(data_test.iloc[:,range(1,22)].to_numpy())\n",
    "\n",
    "with pm.Model() as model2:\n",
    "\n",
    "    β = pm.Normal(\"β\", 0, sigma=1e2, shape=(21, 3))\n",
    "    a = pm.Flat(\"a\", shape=(3,))\n",
    "    p = at.nnet.softmax(np.dot(Xt, β) + a, -1)\n",
    "\n",
    "    observed = pm.Categorical(\"obs\", p=p, observed=yt)"
   ]
  },
  {
   "cell_type": "code",
   "execution_count": null,
   "id": "7c86976a",
   "metadata": {},
   "outputs": [],
   "source": [
    "pm.model_to_graphviz(model)"
   ]
  },
  {
   "cell_type": "code",
   "execution_count": null,
   "id": "c976c67d",
   "metadata": {},
   "outputs": [],
   "source": [
    "pm.model_to_graphviz(model2)"
   ]
  },
  {
   "cell_type": "code",
   "execution_count": null,
   "id": "0ee7d909",
   "metadata": {},
   "outputs": [],
   "source": [
    "with model:\n",
    "    model_trace = pm.sample(1000, cores=4)"
   ]
  }
 ],
 "metadata": {
  "kernelspec": {
   "display_name": "Python 3.8.15 64-bit ('3.8.15')",
   "language": "python",
   "name": "python3"
  },
  "language_info": {
   "codemirror_mode": {
    "name": "ipython",
    "version": 3
   },
   "file_extension": ".py",
   "mimetype": "text/x-python",
   "name": "python",
   "nbconvert_exporter": "python",
   "pygments_lexer": "ipython3",
   "version": "3.8.15"
  },
  "vscode": {
   "interpreter": {
    "hash": "d243bf3c7e7fb2705091472daa1fbd4415873d952752551a01a8f0d53faf5565"
   }
  }
 },
 "nbformat": 4,
 "nbformat_minor": 5
}
