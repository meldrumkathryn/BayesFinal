{
 "cells": [
  {
   "cell_type": "markdown",
   "id": "a31a77e4-9a6d-4818-862e-d738a99dcc26",
   "metadata": {},
   "source": [
    "# Naive Bayes Approach"
   ]
  },
  {
   "cell_type": "markdown",
   "id": "79d62c12-fc6f-471c-8b73-8e7cd74d7cbc",
   "metadata": {},
   "source": [
    "## MAX PROBABILITY MODEL"
   ]
  },
  {
   "cell_type": "code",
   "execution_count": 1,
   "id": "a8556289-90d6-43a6-b35a-bc88433b1a95",
   "metadata": {},
   "outputs": [],
   "source": [
    "import os\n",
    "import pandas as pd\n",
    "import numpy as np\n",
    "import matplotlib.pyplot as plt"
   ]
  },
  {
   "cell_type": "code",
   "execution_count": 2,
   "id": "743be334-cafd-4d98-ad21-ba805129bd5c",
   "metadata": {},
   "outputs": [],
   "source": [
    "os.chdir('/Users/meldrumapple/Desktop/Bayes/Final')"
   ]
  },
  {
   "cell_type": "code",
   "execution_count": 3,
   "id": "b355f7aa-c7a0-46f6-bc49-0dbc100d17ba",
   "metadata": {},
   "outputs": [],
   "source": [
    "#import test and train data set as a result of Data_engineering code\n",
    "test=pd.read_csv('test.csv')\n",
    "train=pd.read_csv('train.csv')"
   ]
  },
  {
   "cell_type": "code",
   "execution_count": 4,
   "id": "c7c96da3-4b5d-49d2-bf03-9c281963656a",
   "metadata": {},
   "outputs": [],
   "source": [
    "train=train.iloc[:,2: ]\n",
    "test=test.iloc[:,2:]"
   ]
  },
  {
   "cell_type": "code",
   "execution_count": 5,
   "id": "39b9eebb-d322-4a1a-a113-bc2972846ab3",
   "metadata": {},
   "outputs": [],
   "source": [
    "# adjust score range to start at zero for varaibles age, income, education for ease of code later\n",
    "train['Age']=train['Age']-1\n",
    "train['Income']=train['Income']-1\n",
    "train['Education']=train['Education']-1\n",
    "train['GenHlth']=train['GenHlth']-1\n",
    "test['Age']=test['Age']-1\n",
    "test['Income']=test['Income']-1\n",
    "test['Education']=test['Education']-1\n",
    "test['GenHlth']=test['GenHlth']-1"
   ]
  },
  {
   "cell_type": "code",
   "execution_count": 6,
   "id": "5fb70840-7eef-46c5-8f6b-80eadbfa4d26",
   "metadata": {},
   "outputs": [],
   "source": [
    "#split train data set by response variable\n",
    "train_0=train[train['Diabetes_012']==0]\n",
    "train_1=train[train['Diabetes_012']==1]\n",
    "train_2=train[train['Diabetes_012']==2]"
   ]
  },
  {
   "cell_type": "markdown",
   "id": "85a0392f-12de-43c4-a9e7-bfd501e17c8d",
   "metadata": {},
   "source": [
    "likelihood of any given combination of variable reponses: \n",
    "$$\n",
    "p(X|c_i)=\\prod_{j=0}^{J}P(x_j|c_i)\n",
    "$$"
   ]
  },
  {
   "cell_type": "code",
   "execution_count": 7,
   "id": "6e66f180-9224-4ca0-8b59-b825e36f182e",
   "metadata": {},
   "outputs": [],
   "source": [
    "#Function that gets likelihood of every combination of class and variable reponse for any variable\n",
    "def get_like(variable,responses):\n",
    "    like_0=list()\n",
    "    like_1=list()\n",
    "    like_2=list()\n",
    "    for x in responses: \n",
    "        like_0.append(len(train_0[train_0[variable]==x])/len(train_0))\n",
    "        like_1.append(len(train_1[train_1[variable]==x])/len(train_1))\n",
    "        like_2.append(len(train_2[train_2[variable]==x])/len(train_2))\n",
    "    return pd.DataFrame({'like_0':like_0, 'like_1':like_1, 'like_2':like_2})"
   ]
  },
  {
   "cell_type": "code",
   "execution_count": 8,
   "id": "7986b914-76b4-4429-a6da-18a89634b8d9",
   "metadata": {},
   "outputs": [],
   "source": [
    "# get dictionary of dataframe for each variable\n",
    "likes=list()\n",
    "#add binary variable dataframes to dict\n",
    "likes.append(get_like('HighBP',[0,1]))\n",
    "likes.append(get_like('HighChol',[0,1]))\n",
    "likes.append(get_like('CholCheck',[0,1]))\n",
    "likes.append(get_like('BMI', list(range(0,5))))\n",
    "likes.append(get_like('Smoker',[0,1]))\n",
    "likes.append(get_like('Stroke',[0,1]))\n",
    "likes.append(get_like('HeartDiseaseorAttack',[0,1]))\n",
    "likes.append(get_like('PhysActivity',[0,1]))\n",
    "likes.append(get_like('Fruits',[0,1]))\n",
    "likes.append(get_like('Veggies',[0,1]))\n",
    "likes.append(get_like('HvyAlcoholConsump',[0,1]))\n",
    "likes.append(get_like('AnyHealthcare',[0,1]))\n",
    "likes.append(get_like('GenHlth',[0,1]))\n",
    "likes.append(get_like('GenHlth', list(range(0,6))))\n",
    "likes.append(get_like('MentHlth', list(range(0,3))))\n",
    "likes.append(get_like('PhysHlth', list(range(0,3))))\n",
    "likes.append(get_like('DiffWalk',[0,1]))\n",
    "likes.append(get_like('Sex',[0,1]))\n",
    "likes.append(get_like('Age', list(range(0,14))))\n",
    "likes.append(get_like('Education', list(range(0,7))))\n",
    "likes.append(get_like('Income', list(range(0,9))))"
   ]
  },
  {
   "cell_type": "markdown",
   "id": "7268dfad-a193-4dd0-bca0-03c84c967b1d",
   "metadata": {},
   "source": [
    "Priors:\n",
    "$$\n",
    "P(c_j)\n",
    "$$"
   ]
  },
  {
   "cell_type": "code",
   "execution_count": 9,
   "id": "54874c95-678f-4d62-9156-435d6f6e198e",
   "metadata": {},
   "outputs": [],
   "source": [
    "#Get the priors\n",
    "pri_0=len(train_0)/len(train)\n",
    "pri_1=len(train_1)/len(train)\n",
    "pri_2=len(train_2)/len(train)"
   ]
  },
  {
   "cell_type": "markdown",
   "id": "502a179c-a510-4024-aed0-cd9a5d66549d",
   "metadata": {},
   "source": [
    "condition for classification:\n",
    "$$\n",
    "P(c_j)[\\prod_{j=0}^{J}P(x_j|c_i)+\\alpha]\n",
    "$$\n",
    "\n",
    "we added a laplace smoothing factor because some x_i responses are not present in class c_j so they would result in a likelihood of zero which would give a posterior probability of zero for that class"
   ]
  },
  {
   "cell_type": "code",
   "execution_count": 10,
   "id": "1ebf8bed-bd87-477b-b77a-ff01946ba971",
   "metadata": {},
   "outputs": [],
   "source": [
    "def class_obs(row):\n",
    "    like_0=1\n",
    "    like_1=1\n",
    "    like_2=1\n",
    "    for i in range(len(row)):\n",
    "        like_0*=likes[i].iloc[int(row[i]),0].round(15)+0.001 #alpha in case frequency is zero for any variable\n",
    "        like_1*=likes[i].iloc[int(row[i]),1].round(15)+0.001\n",
    "        like_2*=likes[i].iloc[int(row[i]),2].round(15)+0.001\n",
    "    post_0=like_0*(pri_0)\n",
    "    post_1=like_1*(pri_1)\n",
    "    post_2=like_2*(pri_2)\n",
    "    dct={post_0:0,post_1:1,post_2:2}\n",
    "    return dct[max(post_0,post_1,post_2)]"
   ]
  },
  {
   "cell_type": "code",
   "execution_count": 11,
   "id": "ecd5facf-b9c9-49d0-bc0c-01298d516033",
   "metadata": {},
   "outputs": [],
   "source": [
    "# now apply to test data:\n",
    "true_val=test.iloc[:,0].astype(int)\n",
    "predictors=test.iloc[:,1:].astype(int)"
   ]
  },
  {
   "cell_type": "code",
   "execution_count": 12,
   "id": "9941cc6e-53cf-48ba-88e4-88b9ae1c85d9",
   "metadata": {},
   "outputs": [],
   "source": [
    "# loop through all rows of the prediction variables and record most likely classfication\n",
    "preds=list()\n",
    "for j in range(len(test)):\n",
    "    preds.append(class_obs(list(predictors.iloc[j, :])))"
   ]
  },
  {
   "cell_type": "markdown",
   "id": "6d5b7da8-2298-4ed3-96f1-904a5959a4c1",
   "metadata": {},
   "source": [
    "## Results"
   ]
  },
  {
   "cell_type": "code",
   "execution_count": 13,
   "id": "88c43270-ec67-418f-bcd6-ff268e3f43ac",
   "metadata": {},
   "outputs": [
    {
     "data": {
      "text/plain": [
       "0    45636\n",
       "2     5100\n",
       "Name: dia_hat, dtype: int64"
      ]
     },
     "execution_count": 13,
     "metadata": {},
     "output_type": "execute_result"
    }
   ],
   "source": [
    "results=pd.DataFrame({'dia_hat':preds, 'dia':true_val})\n",
    "results['correct']=(results['dia_hat']==results['dia'])*1\n",
    "results['dia_hat'].value_counts()"
   ]
  },
  {
   "cell_type": "markdown",
   "id": "ddcc123b-392a-4f2a-8955-d9bb979f23d2",
   "metadata": {},
   "source": [
    "Nothing was classified as prediabetic but that makes sense because there were so few diabetics in the dataset."
   ]
  },
  {
   "cell_type": "code",
   "execution_count": 14,
   "id": "331a3cd5-42ea-4800-bcbf-953768532ede",
   "metadata": {},
   "outputs": [
    {
     "data": {
      "text/plain": [
       "0.8329785556606749"
      ]
     },
     "execution_count": 14,
     "metadata": {},
     "output_type": "execute_result"
    }
   ],
   "source": [
    "# success for 3 class classification\n",
    "sum(results['correct'])/len(results)"
   ]
  },
  {
   "cell_type": "code",
   "execution_count": 15,
   "id": "b3155797-2967-4dcc-9ca7-d874f8aff756",
   "metadata": {},
   "outputs": [],
   "source": [
    "results['bivariate_preds']=(results['dia_hat']!=0)*1\n",
    "results['bivariate_true']=(results['dia']!=0)*1\n",
    "results['bi_correct']=(results['bivariate_preds']==results['bivariate_true'])*1"
   ]
  },
  {
   "cell_type": "code",
   "execution_count": 16,
   "id": "57916a3c-0da1-4752-aa09-260f24f9fc19",
   "metadata": {},
   "outputs": [
    {
     "data": {
      "text/plain": [
       "0.836802270577105"
      ]
     },
     "execution_count": 16,
     "metadata": {},
     "output_type": "execute_result"
    }
   ],
   "source": [
    "# success for 2 class classification\n",
    "sum(results['bi_correct'])/len(results)"
   ]
  },
  {
   "cell_type": "code",
   "execution_count": 17,
   "id": "a9214679-65ff-4910-a61a-aeec0f263110",
   "metadata": {},
   "outputs": [],
   "source": [
    "from sklearn.metrics import confusion_matrix"
   ]
  },
  {
   "cell_type": "code",
   "execution_count": 18,
   "id": "ae104c23-aa66-4b2b-8872-366cfc18f4ed",
   "metadata": {},
   "outputs": [
    {
     "data": {
      "text/plain": [
       "array([[40099,   758,  4779],\n",
       "       [    0,     0,     0],\n",
       "       [ 2743,   194,  2163]])"
      ]
     },
     "execution_count": 18,
     "metadata": {},
     "output_type": "execute_result"
    }
   ],
   "source": [
    "confusion_matrix(results['dia_hat'], results['dia'])"
   ]
  },
  {
   "cell_type": "markdown",
   "id": "8223bac6-f78b-4f7b-b8af-75901c5d5d4f",
   "metadata": {},
   "source": [
    "## THRESHOLD MODEL"
   ]
  },
  {
   "cell_type": "code",
   "execution_count": 19,
   "id": "52c45fb1-cb71-4640-ac78-18b6a023d707",
   "metadata": {},
   "outputs": [],
   "source": [
    "# rewrite class obs to only classify probabilites above 80%\n",
    "def class_obs(row):\n",
    "    like_0=1\n",
    "    like_1=1\n",
    "    like_2=1\n",
    "    for i in range(len(row)):\n",
    "        like_0*=likes[i].iloc[int(row[i]),0].round(15)+0.001 #alpha in case frequency is zero for any variable\n",
    "        like_1*=likes[i].iloc[int(row[i]),1].round(15)+0.001\n",
    "        like_2*=likes[i].iloc[int(row[i]),2].round(15)+0.001\n",
    "    post_0=like_0*(pri_0)\n",
    "    post_1=like_1*(pri_1)\n",
    "    post_2=like_2*(pri_2)\n",
    "    #put into array and normalize\n",
    "    posts=np.array([post_0,post_1,post_2])\n",
    "    posts=posts/sum(posts)\n",
    "    \n",
    "    dct={posts[0]:0,posts[1]:1,posts[2]:2}\n",
    "    if max(posts)>0.8:\n",
    "        return dct[max(posts)]\n",
    "    else:\n",
    "        return -1"
   ]
  },
  {
   "cell_type": "code",
   "execution_count": 20,
   "id": "729f481d-590e-44d6-9379-640a72721699",
   "metadata": {},
   "outputs": [],
   "source": [
    "# loop through all rows of the prediction variables and record most likely classfication\n",
    "preds=list()\n",
    "for j in range(len(test)):\n",
    "    preds.append(class_obs(list(predictors.iloc[j, :])))"
   ]
  },
  {
   "cell_type": "markdown",
   "id": "748d131e-db10-443f-bb46-d8d04cb06d88",
   "metadata": {},
   "source": [
    "## Results"
   ]
  },
  {
   "cell_type": "code",
   "execution_count": 21,
   "id": "96443df3-524a-46a1-9026-8cd6421d251e",
   "metadata": {},
   "outputs": [
    {
     "data": {
      "text/plain": [
       "0.14277830337432987"
      ]
     },
     "execution_count": 21,
     "metadata": {},
     "output_type": "execute_result"
    }
   ],
   "source": [
    "# Insert results in Dataframe and calulate how many observations were not classified\n",
    "results2=pd.DataFrame({'dia_hat':preds, 'dia':true_val})\n",
    "len(results2[results2['dia_hat']==-1])/len(results2)"
   ]
  },
  {
   "cell_type": "code",
   "execution_count": 22,
   "id": "381f6d36-0627-40fc-8090-2d33c04d849c",
   "metadata": {},
   "outputs": [],
   "source": [
    "# finish out the results table\n",
    "results2=results2[results2['dia_hat']!=-1]\n",
    "results2['correct']=(results2['dia_hat']==results2['dia'])*1\n",
    "results2['bivariate_preds']=(results2['dia_hat']!=0)*1\n",
    "results2['bivariate_true']=(results2['dia']!=0)*1\n",
    "results2['bi_correct']=(results2['bivariate_preds']==results2['bivariate_true'])*1"
   ]
  },
  {
   "cell_type": "code",
   "execution_count": 23,
   "id": "bbb83d36-d0b4-4a3c-9205-0cf793f47908",
   "metadata": {},
   "outputs": [
    {
     "data": {
      "text/plain": [
       "0.881794352984457"
      ]
     },
     "execution_count": 23,
     "metadata": {},
     "output_type": "execute_result"
    }
   ],
   "source": [
    "# success rate for 3 class classification\n",
    "sum(results2['correct'])/len(results2)"
   ]
  },
  {
   "cell_type": "code",
   "execution_count": 24,
   "id": "73abb2a7-4368-432c-931c-19919e6495ef",
   "metadata": {},
   "outputs": [
    {
     "data": {
      "text/plain": [
       "0.8832888807136945"
      ]
     },
     "execution_count": 24,
     "metadata": {},
     "output_type": "execute_result"
    }
   ],
   "source": [
    "# success rate for 2 class classification\n",
    "sum(results2['bi_correct'])/len(results2)"
   ]
  },
  {
   "cell_type": "code",
   "execution_count": 25,
   "id": "2292019d-6746-41d9-80ad-ed5baae81ce7",
   "metadata": {},
   "outputs": [
    {
     "data": {
      "text/plain": [
       "array([[37316,   609,  3488],\n",
       "       [    0,     0,     0],\n",
       "       [  979,    65,  1035]])"
      ]
     },
     "execution_count": 25,
     "metadata": {},
     "output_type": "execute_result"
    }
   ],
   "source": [
    "confusion_matrix(results2['dia_hat'], results2['dia'])"
   ]
  },
  {
   "cell_type": "markdown",
   "id": "b9291848-c3c0-4042-a23f-cb985e65f6ba",
   "metadata": {},
   "source": [
    "## Generating a different cases of the threshold model"
   ]
  },
  {
   "cell_type": "code",
   "execution_count": 26,
   "id": "6ecb9284-b22b-4ca9-859a-5dc7ce4b63a6",
   "metadata": {},
   "outputs": [],
   "source": [
    "def class_obs(row, thresh):\n",
    "    like_0=1\n",
    "    like_1=1\n",
    "    like_2=1\n",
    "    for i in range(len(row)):\n",
    "        like_0*=likes[i].iloc[int(row[i]),0].round(15)+0.001 #alpha in case frequency is zero for any variable\n",
    "        like_1*=likes[i].iloc[int(row[i]),1].round(15)+0.001\n",
    "        like_2*=likes[i].iloc[int(row[i]),2].round(15)+0.001\n",
    "    post_0=like_0*(pri_0)\n",
    "    post_1=like_1*(pri_1)\n",
    "    post_2=like_2*(pri_2)\n",
    "    #put into array and normalize\n",
    "    posts=np.array([post_0,post_1,post_2])\n",
    "    posts=posts/sum(posts)\n",
    "    \n",
    "    dct={posts[0]:0,posts[1]:1,posts[2]:2}\n",
    "    if max(posts)>thresh:\n",
    "        return dct[max(posts)]\n",
    "    else:\n",
    "        return -1"
   ]
  },
  {
   "cell_type": "code",
   "execution_count": 27,
   "id": "d3f4f82b-a720-4069-8900-239e1f482cc4",
   "metadata": {},
   "outputs": [],
   "source": [
    "thresh_success=pd.DataFrame()\n",
    "thresh_success['threshold']=list()\n",
    "thresh_success['%unclassified']=list()\n",
    "thresh_success['success']=list()"
   ]
  },
  {
   "cell_type": "code",
   "execution_count": 28,
   "id": "b71f363d-588e-4c45-a675-cfb202fd4725",
   "metadata": {},
   "outputs": [],
   "source": [
    "# loop through all rows of the prediction variables and record most likely classfication\n",
    "for i in [0.5,0.6,0.7,0.8,0.9,1]:\n",
    "    preds=list()\n",
    "    for j in range(len(test)):\n",
    "        preds.append(class_obs(list(predictors.iloc[j, :]), i))\n",
    "    results3=pd.DataFrame({'dia_hat':preds, 'dia':true_val})\n",
    "    unclassified=len(results3[results3['dia_hat']==-1])/len(results3)\n",
    "    results3=results3[results3['dia_hat']!=-1]\n",
    "    results3['correct']=(results3['dia_hat']==results3['dia'])*1\n",
    "    # success rate for 3 class classification\n",
    "    success_rate=sum(results3['correct'])/(len(results3)+1)\n",
    "    thresh_success.loc[len(thresh_success.index)] = [i, unclassified, success_rate]"
   ]
  },
  {
   "cell_type": "code",
   "execution_count": 29,
   "id": "d854a895-8cc8-4128-b0e3-161c940548eb",
   "metadata": {},
   "outputs": [
    {
     "data": {
      "text/html": [
       "<div>\n",
       "<style scoped>\n",
       "    .dataframe tbody tr th:only-of-type {\n",
       "        vertical-align: middle;\n",
       "    }\n",
       "\n",
       "    .dataframe tbody tr th {\n",
       "        vertical-align: top;\n",
       "    }\n",
       "\n",
       "    .dataframe thead th {\n",
       "        text-align: right;\n",
       "    }\n",
       "</style>\n",
       "<table border=\"1\" class=\"dataframe\">\n",
       "  <thead>\n",
       "    <tr style=\"text-align: right;\">\n",
       "      <th></th>\n",
       "      <th>threshold</th>\n",
       "      <th>%unclassified</th>\n",
       "      <th>success</th>\n",
       "    </tr>\n",
       "  </thead>\n",
       "  <tbody>\n",
       "    <tr>\n",
       "      <th>0</th>\n",
       "      <td>0.5</td>\n",
       "      <td>0.012082</td>\n",
       "      <td>0.837044</td>\n",
       "    </tr>\n",
       "    <tr>\n",
       "      <th>1</th>\n",
       "      <td>0.6</td>\n",
       "      <td>0.049176</td>\n",
       "      <td>0.849695</td>\n",
       "    </tr>\n",
       "    <tr>\n",
       "      <th>2</th>\n",
       "      <td>0.7</td>\n",
       "      <td>0.091198</td>\n",
       "      <td>0.864650</td>\n",
       "    </tr>\n",
       "    <tr>\n",
       "      <th>3</th>\n",
       "      <td>0.8</td>\n",
       "      <td>0.142778</td>\n",
       "      <td>0.881774</td>\n",
       "    </tr>\n",
       "    <tr>\n",
       "      <th>4</th>\n",
       "      <td>0.9</td>\n",
       "      <td>0.224535</td>\n",
       "      <td>0.906240</td>\n",
       "    </tr>\n",
       "    <tr>\n",
       "      <th>5</th>\n",
       "      <td>1.0</td>\n",
       "      <td>1.000000</td>\n",
       "      <td>0.000000</td>\n",
       "    </tr>\n",
       "  </tbody>\n",
       "</table>\n",
       "</div>"
      ],
      "text/plain": [
       "   threshold  %unclassified   success\n",
       "0        0.5       0.012082  0.837044\n",
       "1        0.6       0.049176  0.849695\n",
       "2        0.7       0.091198  0.864650\n",
       "3        0.8       0.142778  0.881774\n",
       "4        0.9       0.224535  0.906240\n",
       "5        1.0       1.000000  0.000000"
      ]
     },
     "execution_count": 29,
     "metadata": {},
     "output_type": "execute_result"
    }
   ],
   "source": [
    "thresh_success"
   ]
  },
  {
   "cell_type": "code",
   "execution_count": 34,
   "id": "000f094b-a347-4d3d-80a9-e63b82baffda",
   "metadata": {},
   "outputs": [
    {
     "data": {
      "image/png": "[encoded data removed]",
      "text/plain": [
       "<Figure size 432x288 with 1 Axes>"
      ]
     },
     "metadata": {
      "needs_background": "light"
     },
     "output_type": "display_data"
    }
   ],
   "source": [
    "plt.plot(thresh_success['threshold'],thresh_success['%unclassified'], label='% data unclassified')\n",
    "plt.plot(thresh_success['threshold'],thresh_success['success'], label = \"% data classified correctly\")\n",
    "plt.title('Effect of threshold on data classficiation')\n",
    "plt.xlabel('threshold')\n",
    "plt.legend()\n",
    "plt.show()"
   ]
  },
  {
   "cell_type": "code",
   "execution_count": null,
   "id": "c565bde0-d7c6-4255-b406-d0157ae5ac09",
   "metadata": {},
   "outputs": [],
   "source": []
  }
 ],
 "metadata": {
  "kernelspec": {
   "display_name": "Python 3 (ipykernel)",
   "language": "python",
   "name": "python3"
  },
  "language_info": {
   "codemirror_mode": {
    "name": "ipython",
    "version": 3
   },
   "file_extension": ".py",
   "mimetype": "text/x-python",
   "name": "python",
   "nbconvert_exporter": "python",
   "pygments_lexer": "ipython3",
   "version": "3.9.12"
  }
 },
 "nbformat": 4,
 "nbformat_minor": 5
}
