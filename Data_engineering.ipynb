{
 "cells": [
  {
   "cell_type": "markdown",
   "id": "b5ba3ecd-ad6a-4bf9-8fdf-611e9caffa4c",
   "metadata": {},
   "source": [
    "## Data Engineering"
   ]
  },
  {
   "cell_type": "code",
   "execution_count": 35,
   "id": "cdb2ade8-5ca7-44e8-92ae-220eb6cb0120",
   "metadata": {},
   "outputs": [],
   "source": [
    "import os\n",
    "import pandas as pd\n",
    "import numpy as np\n",
    "import matplotlib.pyplot as plt"
   ]
  },
  {
   "cell_type": "code",
   "execution_count": 36,
   "id": "38747a7f-cf1b-41e5-be30-4730b6df556f",
   "metadata": {},
   "outputs": [],
   "source": [
    "os.chdir('/Users/meldrumapple/Desktop/Bayes/Final')"
   ]
  },
  {
   "cell_type": "code",
   "execution_count": 37,
   "id": "e48967a8-f47d-44a5-a4cf-536924c2980d",
   "metadata": {},
   "outputs": [],
   "source": [
    "dia=pd.read_csv('diabetes.csv')"
   ]
  },
  {
   "cell_type": "markdown",
   "id": "6dc214ea-d8d3-445b-95b3-e1fb879a4cb4",
   "metadata": {},
   "source": [
    "Split bmi into underweight, normal, overweight, obese, and extremely obese to match the national standards, represented through numeric classes 0-4"
   ]
  },
  {
   "cell_type": "code",
   "execution_count": 38,
   "id": "925efcea-2ddf-4da0-a08a-43e2e9449f7c",
   "metadata": {},
   "outputs": [],
   "source": [
    "new_bmi=list()\n",
    "for i in list(dia['BMI']): \n",
    "    if i<18.5:\n",
    "        new_bmi.append(0)\n",
    "    if 18.5<=i<25:\n",
    "        new_bmi.append(1)\n",
    "    if 25<=i<30:\n",
    "        new_bmi.append(2)\n",
    "    if 30<=i<35:\n",
    "        new_bmi.append(3)\n",
    "    if 35<=i:\n",
    "        new_bmi.append(4)"
   ]
  },
  {
   "cell_type": "code",
   "execution_count": 39,
   "id": "b912b896-ecb6-47b7-a112-e4dd157cef40",
   "metadata": {},
   "outputs": [],
   "source": [
    "dia['BMI']=new_bmi"
   ]
  },
  {
   "cell_type": "markdown",
   "id": "5871e205-8983-4b34-baec-29dbcd1955fa",
   "metadata": {},
   "source": [
    "For mental and physical health split into 0, 1-6, and above 6 to match t"
   ]
  },
  {
   "cell_type": "code",
   "execution_count": 40,
   "id": "f7f5e821-97c1-4ed7-b819-355d5c0e48de",
   "metadata": {},
   "outputs": [],
   "source": [
    "new_MH=list()\n",
    "for i in list(dia['MentHlth']):\n",
    "    if 1<=i<6:\n",
    "        new_MH.append(1)\n",
    "    if 6<=i:\n",
    "        new_MH.append(2)\n",
    "    if i<1:\n",
    "        new_MH.append(0)\n",
    "dia['MentHlth']=new_MH"
   ]
  },
  {
   "cell_type": "code",
   "execution_count": 41,
   "id": "6c4d0341-b649-4642-8492-a13ca5e6d045",
   "metadata": {},
   "outputs": [],
   "source": [
    "new_PH=list()\n",
    "for i in list(dia['PhysHlth']):\n",
    "    if 1<=i<6:\n",
    "        new_PH.append(1)\n",
    "    if 6<=i:\n",
    "        new_PH.append(2)\n",
    "    if i<1:\n",
    "        new_PH.append(0)\n",
    "dia['PhysHlth']=new_PH"
   ]
  },
  {
   "cell_type": "code",
   "execution_count": null,
   "id": "bf6fddc6-63dc-44ef-8587-300060234bbd",
   "metadata": {},
   "outputs": [],
   "source": []
  }
 ],
 "metadata": {
  "kernelspec": {
   "display_name": "Python 3 (ipykernel)",
   "language": "python",
   "name": "python3"
  },
  "language_info": {
   "codemirror_mode": {
    "name": "ipython",
    "version": 3
   },
   "file_extension": ".py",
   "mimetype": "text/x-python",
   "name": "python",
   "nbconvert_exporter": "python",
   "pygments_lexer": "ipython3",
   "version": "3.9.12"
  }
 },
 "nbformat": 4,
 "nbformat_minor": 5
}
